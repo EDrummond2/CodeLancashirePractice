{
 "cells": [
  {
   "cell_type": "markdown",
   "metadata": {},
   "source": [
    "To complete the homework simply fill in your answers in this jupyter notebook!\n",
    "\n",
    "Remember that there are many ways in which markup cells can be used and you can add useful things such as references and images to better explain your answers.\n",
    "\n",
    "It is perfectly fine if you copy your answer from somewhere else in the internet as long as you understand the code you copied and cite the source. However, refrain from asking help for your colleagues (unless you're really struggling) as the ability to find information online is crucial for any tech role you might want to have in the future.\n",
    "\n",
    "<h1> Question 1: Multiple prints</h1>\n",
    "Create 3 different variables of different types and print their values using a single print statement."
   ]
  },
  {
   "cell_type": "code",
   "execution_count": 1,
   "metadata": {},
   "outputs": [
    {
     "name": "stdout",
     "output_type": "stream",
     "text": [
      "<class 'str'> <class 'list'> <class 'dict'>\n"
     ]
    }
   ],
   "source": [
    "my_string = \"Emma Drummond\"\n",
    "my_list = [\"Emma\",\"Lucy\",\"Eve\",\"Drummond\"]\n",
    "my_dict = {\"EmmaD\":41, \"Neil\":43, \"David\":13, \"Clare\":9}\n",
    "\n",
    "print(type(my_string),type(my_list),type(my_dict))"
   ]
  },
  {
   "cell_type": "markdown",
   "metadata": {},
   "source": [
    "<h1> Question 2: Data structures</h1>\n",
    "Create two variables containing each a nested list and a nested dictionary and demonstrate how to access specific items of it."
   ]
  },
  {
   "cell_type": "code",
   "execution_count": 7,
   "metadata": {},
   "outputs": [
    {
     "name": "stdout",
     "output_type": "stream",
     "text": [
      "1\n",
      "2\n",
      "3\n",
      "4\n",
      "[0, 2, 4, 6, 8, 10, 12, 14, 16, 18, 20, 22, 24, 26, 28, 30, 32, 34, 36, 38, 40, 42, 44, 46, 48, 50, 52, 54, 56, 58, 60, 62, 64, 66, 68, 70, 72, 74, 76, 78, 80, 82, 84, 86, 88, 90, 92, 94, 96, 98]\n",
      "9\n",
      "8\n"
     ]
    }
   ],
   "source": [
    "nested_list = [[x for x in range(1,100,2)]]\n",
    "print(len(nested_list))\n",
    "\n",
    "nested_list.append([x for x in range(0,99,2)])\n",
    "print(len(nested_list))\n",
    "\n",
    "nested_list.append([x for x in range(1,-100,-2)])\n",
    "print(len(nested_list))\n",
    "\n",
    "nested_list.append([x for x in range(0,-99,-2)])\n",
    "print(len(nested_list))\n",
    "\n",
    "print(nested_list[1])\n",
    "print(nested_list[0][4])\n",
    "\n",
    "nested_dict = {\"positive_odds\":nested_list[0],\"positive_evens\":nested_list[1],\"negative_odds\":nested_list[2],\"negative_evens\":nested_list[3]}\n",
    "\n",
    "print(nested_dict[\"positive_evens\"][4])"
   ]
  },
  {
   "cell_type": "markdown",
   "metadata": {},
   "source": [
    "Now consider the following list,"
   ]
  },
  {
   "cell_type": "code",
   "execution_count": 9,
   "metadata": {},
   "outputs": [],
   "source": [
    "a_list = [1,2,3,4,5,6,7,8,9]"
   ]
  },
  {
   "cell_type": "code",
   "execution_count": 15,
   "metadata": {},
   "outputs": [
    {
     "name": "stdout",
     "output_type": "stream",
     "text": [
      "1 green bottles hanging on the wall!\n",
      "2 green bottles hanging on the wall!\n",
      "3 green bottles hanging on the wall!\n",
      "4 green bottles hanging on the wall!\n",
      "5 green bottles hanging on the wall!\n",
      "6 green bottles hanging on the wall!\n",
      "7 green bottles hanging on the wall!\n",
      "8 green bottles hanging on the wall!\n",
      "9 green bottles hanging on the wall!\n"
     ]
    }
   ],
   "source": [
    "# 1\n",
    "a_list[0:4]\n",
    "# 2\n",
    "a_new_list = [] # not using list apprehension, but checking modulus\n",
    "\n",
    "for x in a_list:\n",
    "    if x%2 == 0:\n",
    "        a_new_list.append(x)\n",
    "\n",
    "a_new_list_app = [x for x in range(2,9,2)] # using list apprehension\n",
    "#3 \n",
    "multiples_of_three_app = [x for x in range(3,9,3)] # using list apprehension\n",
    "# BONUS\n",
    "for x in a_list:\n",
    "    print(f\"{x} green bottles hanging on the wall!\")\n"
   ]
  },
  {
   "cell_type": "markdown",
   "metadata": {},
   "source": [
    "1 - slice this list (by index) to contain only the numbers smaller than 5; <br>\n",
    "2 - make a loop to create a new list containing only the EVEN numbers of this list (bonus point if you use a list comprehension!!);<br>\n",
    "3 - make a loop to create a new list containing only the numbers that are multiples of 3;<br>\n",
    "Bonus - make a loop that will print every item on the list inside a sentence using a f-string."
   ]
  },
  {
   "cell_type": "markdown",
   "metadata": {},
   "source": [
    "<h1>Question 3: Creating functions</h1>\n",
    "\n",
    "Create a function that takes a list of numbers and convert them into strings. (bonus point if you use a list comprehension!!)"
   ]
  },
  {
   "cell_type": "code",
   "execution_count": 31,
   "metadata": {},
   "outputs": [
    {
     "name": "stdout",
     "output_type": "stream",
     "text": [
      "['0', '1', '2', '3', '4', '5', '6', '7', '8', '9', '10', '11', '12', '13', '14', '15', '16', '17', '18', '19', '20', '21', '22', '23', '24', '25', '26', '27', '28', '29', '30', '31', '32', '33', '34', '35', '36', '37', '38', '39', '40', '41', '42', '43', '44', '45', '46', '47', '48', '49', '50', '51', '52', '53', '54', '55', '56', '57', '58', '59', '60', '61', '62', '63', '64', '65', '66', '67', '68', '69', '70', '71', '72', '73', '74', '75', '76', '77', '78', '79', '80', '81', '82', '83', '84', '85', '86', '87', '88', '89', '90', '91', '92', '93', '94', '95', '96', '97', '98', '99']\n"
     ]
    }
   ],
   "source": [
    "list_of_numbers = [x for x in range(100)]\n",
    "\n",
    "def str_convert(num_list):\n",
    "    str_list = []\n",
    "    for x in num_list:\n",
    "        answer = str(x)\n",
    "        str_list.append(answer)\n",
    "    return(str_list)\n",
    "\n",
    "print(str_convert(list_of_numbers))"
   ]
  },
  {
   "cell_type": "markdown",
   "metadata": {},
   "source": [
    "Create a small calculator. The function should pick two numbers and perform one of four mathematical operations with it (sum/subtraction, division, multiplication, exponents). The desired operation should be an option (hint: what IF the user wants to do a sum?)\n",
    "\n",
    "Bonus: Make a function that can pick ANY number of numbers."
   ]
  },
  {
   "cell_type": "code",
   "execution_count": 28,
   "metadata": {},
   "outputs": [],
   "source": [
    "import random\n",
    "\n",
    "\n",
    "def small_calc():\n",
    "    operations_dict = {\"sum\":0,\"Sum\":0,\"+\":0,\"subtraction\":1,\"Subtraction\":1,\"-\":1,\"division\":2,\"Division\":2,\"/\":2,\"*\":3,\"x\":3,\"multiplication\":3,\"exp\":4,\"exponent\":4}\n",
    "    print(\"Which operation do you require? Sum, subtraction, division, multiplication or exponential\")\n",
    "    op = str(input())\n",
    "    answer = operations_dict[op]\n",
    "    print(answer)\n",
    "    first_number = random.randint(1,10)\n",
    "    second_number = random.randint(1,10)\n",
    "    if answer == 0:\n",
    "       result = first_number+second_number\n",
    "    elif answer == 1:\n",
    "       result = first_number-second_number\n",
    "    elif answer == 2:\n",
    "        result = first_number/second_number\n",
    "    elif answer == 3:\n",
    "        result = first_number*second_number\n",
    "    elif answer == 4:\n",
    "        result = first_number**second_number\n",
    "    else: result = \"failed\" # error trapping line, if the input is not in the dict\n",
    "    return(result)\n",
    "\n"
   ]
  },
  {
   "cell_type": "code",
   "execution_count": 26,
   "metadata": {},
   "outputs": [
    {
     "name": "stdout",
     "output_type": "stream",
     "text": [
      "Which operation do you require? Sum, subtraction, division, multiplication or exponential\n",
      "sum\n",
      "0\n"
     ]
    },
    {
     "data": {
      "text/plain": [
       "7"
      ]
     },
     "execution_count": 26,
     "metadata": {},
     "output_type": "execute_result"
    }
   ],
   "source": [
    "small_calc() \n"
   ]
  },
  {
   "cell_type": "markdown",
   "metadata": {},
   "source": [
    "Create a function that check if a number is within a list of numbers."
   ]
  },
  {
   "cell_type": "code",
   "execution_count": 35,
   "metadata": {},
   "outputs": [],
   "source": [
    "def number_check(num_to_check,list_to_check):\n",
    "    if type(list_to_check) == list:\n",
    "        if type(num_to_check) == int or type(num_to_check) == float:\n",
    "            if num_to_check in list_to_check:\n",
    "                return(\"Your number is in the list.\")\n",
    "            else:\n",
    "                return(\"Your number is not in the list\")\n",
    "        else: \n",
    "            return(\"Your number is not a number. Try again.\")\n",
    "    else: return(\"Your list is not a list. Try again.\")"
   ]
  },
  {
   "cell_type": "markdown",
   "metadata": {},
   "source": [
    "Bonus: similar to the item above, create a function that checks if a string contains a given substring, e.g. 'I have a cat' contains the string sequence 'cat' or 'ave'."
   ]
  },
  {
   "cell_type": "code",
   "execution_count": 36,
   "metadata": {},
   "outputs": [
    {
     "name": "stdout",
     "output_type": "stream",
     "text": [
      "Your number is not a number. Try again.\n"
     ]
    }
   ],
   "source": [
    "print(number_check(\"four\",list_of_numbers))"
   ]
  },
  {
   "cell_type": "markdown",
   "metadata": {},
   "source": [
    "Bonus: create a function that given the initial speed of a projectile that is thrown at 90 degrees will calculate how much time the projectile will take to get back to the initial altitude. (yes you're expected to disregard air resistence)"
   ]
  },
  {
   "cell_type": "code",
   "execution_count": null,
   "metadata": {},
   "outputs": [],
   "source": []
  },
  {
   "cell_type": "markdown",
   "metadata": {},
   "source": [
    "<h1>solve these questions...or ELSE</h1>\n",
    "\n",
    "Why the nested if statement below doesn't only produce the first print? Can you modify it so it produces the desired output?"
   ]
  },
  {
   "cell_type": "code",
   "execution_count": 37,
   "metadata": {},
   "outputs": [
    {
     "name": "stdout",
     "output_type": "stream",
     "text": [
      "Yeeeey!\n"
     ]
    }
   ],
   "source": [
    "food = 'Pizza'\n",
    "drinks = 'Beer'\n",
    "\n",
    "if food == 'Pizza' and drinks == 'Beer':\n",
    "    print('Yeeeey!')\n",
    "elif food == 'Pizza' and drinks != 'Beer':\n",
    "    print('Yey.')\n",
    "elif food != 'Pizza' and drinks == 'Beer':\n",
    "    print('Yey!')\n",
    "else:\n",
    "    print('.....???')"
   ]
  },
  {
   "cell_type": "markdown",
   "metadata": {},
   "source": [
    "Each of the \"if\" statements will be run.  Statement 1 gives the \"Yeeeey!\" output as it is true. Statement 2 doesn't have an \"else\" action, and gives a false. However, \"if\" statement 3 does have an \"else\" action, so when it gives a false it prints that."
   ]
  },
  {
   "cell_type": "markdown",
   "metadata": {},
   "source": [
    "<h1> Debugging </h1>\n",
    "None of the blocks of code below work. Your task is to make them work (if possible!) and add markup cells (or comments) explaining why they don't work."
   ]
  },
  {
   "cell_type": "markdown",
   "metadata": {},
   "source": [
    "print(\"Is this working?\")"
   ]
  },
  {
   "cell_type": "code",
   "execution_count": 38,
   "metadata": {},
   "outputs": [
    {
     "name": "stdout",
     "output_type": "stream",
     "text": [
      "does this work?\n"
     ]
    }
   ],
   "source": [
    "print(\"does this work?\") # the code was commented out"
   ]
  },
  {
   "cell_type": "code",
   "execution_count": 39,
   "metadata": {},
   "outputs": [
    {
     "name": "stdout",
     "output_type": "stream",
     "text": [
      "about now?\n"
     ]
    }
   ],
   "source": [
    "print(\"about now?\") # the speech marks did not match"
   ]
  },
  {
   "cell_type": "code",
   "execution_count": 44,
   "metadata": {},
   "outputs": [
    {
     "name": "stdout",
     "output_type": "stream",
     "text": [
      "Today on a scale from 1 to 10 I am feeling... 10\n"
     ]
    }
   ],
   "source": [
    "text_variable = \"Today on a scale from 1 to 10 I am feeling...\"\n",
    "my_mood = 10\n",
    "print(text_variable, my_mood) # this print statement was missing a \",\" "
   ]
  },
  {
   "cell_type": "code",
   "execution_count": 43,
   "metadata": {},
   "outputs": [
    {
     "name": "stdout",
     "output_type": "stream",
     "text": [
      "Today on a scale from 1 to 10 I am feeling...10\n"
     ]
    }
   ],
   "source": [
    "text_variable = \"Today on a scale from 1 to 10 I am feeling...\"\n",
    "my_mood = 10\n",
    "print(text_variable+str(my_mood)) #Yep there are ways to make it work with a + operator too!"
   ]
  },
  {
   "cell_type": "markdown",
   "metadata": {},
   "source": [
    "This print statement needed my_mood needed to be converted to a string"
   ]
  },
  {
   "cell_type": "code",
   "execution_count": 45,
   "metadata": {},
   "outputs": [],
   "source": [
    "a_dictionary = {\"item1\": 'Value 1',\n",
    "                \"item2\": 'value 2'}"
   ]
  },
  {
   "cell_type": "markdown",
   "metadata": {},
   "source": [
    "Both dict keys needed to be in speech marks, and the extra comma was causing issues."
   ]
  },
  {
   "cell_type": "code",
   "execution_count": 47,
   "metadata": {},
   "outputs": [
    {
     "data": {
      "text/plain": [
       "True"
      ]
     },
     "execution_count": 47,
     "metadata": {},
     "output_type": "execute_result"
    }
   ],
   "source": [
    "1 == 1 # Should return True"
   ]
  },
  {
   "cell_type": "markdown",
   "metadata": {},
   "source": [
    "To compare two things you need the double = (==)."
   ]
  },
  {
   "cell_type": "code",
   "execution_count": null,
   "metadata": {},
   "outputs": [],
   "source": [
    "# Why isn't the outcome 'Clap your hands?'\n",
    "mood = 'happy'\n",
    "if mood == 'happy':\n",
    "    print('Clap your hands')\n",
    "else:\n",
    "    print('...do I look like I have this one figured out?')"
   ]
  },
  {
   "cell_type": "markdown",
   "metadata": {},
   "source": [
    "Here we have an issue because of the uppercase H is not equal to the lowercase h.  The string compare is case sensitive and getting a call of false."
   ]
  },
  {
   "cell_type": "code",
   "execution_count": 48,
   "metadata": {},
   "outputs": [
    {
     "name": "stdout",
     "output_type": "stream",
     "text": [
      "a word another word\n"
     ]
    }
   ],
   "source": [
    "def printerfunction(x,y):\n",
    "    print(x,y)\n",
    "\n",
    "printerfunction(\"a word\", \"another word\")"
   ]
  },
  {
   "cell_type": "markdown",
   "metadata": {},
   "source": [
    "There was an issue with indentation in line 2.  "
   ]
  },
  {
   "cell_type": "code",
   "execution_count": 49,
   "metadata": {},
   "outputs": [
    {
     "name": "stdout",
     "output_type": "stream",
     "text": [
      "...do I look like I have this one figured out?\n"
     ]
    }
   ],
   "source": [
    "# bonus/annoying round, why is this crashing?\n",
    "mood = 'happy'\n",
    "if mood == 'Happy':\n",
    "   print('Clap your hands')\n",
    "else:\n",
    "    print('...do I look like I have this one figured out?')"
   ]
  },
  {
   "cell_type": "markdown",
   "metadata": {},
   "source": [
    "Case-sensitivity again???!?!"
   ]
  }
 ],
 "metadata": {
  "kernelspec": {
   "display_name": "Python 3.9.12 ('base')",
   "language": "python",
   "name": "python3"
  },
  "language_info": {
   "codemirror_mode": {
    "name": "ipython",
    "version": 3
   },
   "file_extension": ".py",
   "mimetype": "text/x-python",
   "name": "python",
   "nbconvert_exporter": "python",
   "pygments_lexer": "ipython3",
   "version": "3.9.12"
  },
  "vscode": {
   "interpreter": {
    "hash": "fcc362f8574f8204d6018ca2f9b94a8d6d7e8427caab7900b7f8463936fca73b"
   }
  }
 },
 "nbformat": 4,
 "nbformat_minor": 4
}
