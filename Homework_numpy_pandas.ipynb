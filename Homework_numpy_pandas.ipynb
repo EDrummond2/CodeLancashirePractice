{
 "cells": [
  {
   "cell_type": "markdown",
   "metadata": {},
   "source": [
    "<h1>Homework 2</h1>\n",
    "In this notebook there are the activities related to the second homework and, as with the first homework, feel free to use the web to find the solutions to any of these problems. Also, the bonus questions are not mandatory but, if you happen to have the time, try them out too!<br>\n",
    "\n"
   ]
  },
  {
   "cell_type": "markdown",
   "metadata": {},
   "source": [
    "<h1>numpy</h1>\n",
    "Exercise 1: show that now you can import libraries by importing pandas, numpy and matplotlib."
   ]
  },
  {
   "cell_type": "code",
   "execution_count": 3,
   "metadata": {},
   "outputs": [],
   "source": [
    "import pandas as pd\n",
    "import numpy as np\n",
    "import matplotlib"
   ]
  },
  {
   "cell_type": "markdown",
   "metadata": {},
   "source": [
    "Exercise 2: Will the following code block work?  "
   ]
  },
  {
   "cell_type": "code",
   "execution_count": 4,
   "metadata": {},
   "outputs": [
    {
     "name": "stdout",
     "output_type": "stream",
     "text": [
      "[[3.45999578e-01 3.95203089e-01 1.74697385e-01]\n",
      " [2.71651175e-01 2.94802491e-01 7.83074709e-01]\n",
      " [9.53809350e-01 2.44540334e-04 3.53142617e-01]]\n",
      "[[0.06752199]\n",
      " [0.98382987]\n",
      " [0.24525873]]\n"
     ]
    },
    {
     "data": {
      "text/plain": [
       "array([[0.41352157, 0.46272508, 0.24221938],\n",
       "       [1.25548104, 1.27863236, 1.76690458],\n",
       "       [1.19906808, 0.24550327, 0.59840135]])"
      ]
     },
     "execution_count": 4,
     "metadata": {},
     "output_type": "execute_result"
    }
   ],
   "source": [
    "# This creates a 3x3 array of random numbers ranging from 0 to 1\n",
    "array1 = np.random.random((3, 3))\n",
    "array2 = np.random.random((3, 1))\n",
    "\n",
    "print(array1)\n",
    "print(array2)\n",
    "\n",
    "np.add(array1,array2) \n"
   ]
  },
  {
   "cell_type": "markdown",
   "metadata": {},
   "source": [
    "These arrays have different dimensions.  Array1 is 3 rows x 3 cols and Array2 is 3 rows x 1 col, so the add function has recycled array2 to multiply each row with the 1-D array."
   ]
  },
  {
   "cell_type": "markdown",
   "metadata": {},
   "source": [
    "Exercise 3: What about now?"
   ]
  },
  {
   "cell_type": "code",
   "execution_count": 5,
   "metadata": {},
   "outputs": [
    {
     "ename": "ValueError",
     "evalue": "operands could not be broadcast together with shapes (3,3) (3,2) ",
     "output_type": "error",
     "traceback": [
      "\u001b[0;31m---------------------------------------------------------------------------\u001b[0m",
      "\u001b[0;31mValueError\u001b[0m                                Traceback (most recent call last)",
      "\u001b[1;32m/home/eleg2/Desktop/CODE_Lancashire/Python_file/Homework_numpy_pandas.ipynb Cell 8\u001b[0m in \u001b[0;36m<cell line: 5>\u001b[0;34m()\u001b[0m\n\u001b[1;32m      <a href='vscode-notebook-cell:/home/eleg2/Desktop/CODE_Lancashire/Python_file/Homework_numpy_pandas.ipynb#X10sZmlsZQ%3D%3D?line=1'>2</a>\u001b[0m array3 \u001b[39m=\u001b[39m np\u001b[39m.\u001b[39mrandom\u001b[39m.\u001b[39mrandom((\u001b[39m3\u001b[39m, \u001b[39m3\u001b[39m))\n\u001b[1;32m      <a href='vscode-notebook-cell:/home/eleg2/Desktop/CODE_Lancashire/Python_file/Homework_numpy_pandas.ipynb#X10sZmlsZQ%3D%3D?line=2'>3</a>\u001b[0m array4 \u001b[39m=\u001b[39m np\u001b[39m.\u001b[39mrandom\u001b[39m.\u001b[39mrandom((\u001b[39m3\u001b[39m, \u001b[39m2\u001b[39m))\n\u001b[0;32m----> <a href='vscode-notebook-cell:/home/eleg2/Desktop/CODE_Lancashire/Python_file/Homework_numpy_pandas.ipynb#X10sZmlsZQ%3D%3D?line=4'>5</a>\u001b[0m np\u001b[39m.\u001b[39;49madd(array3,array4)\n",
      "\u001b[0;31mValueError\u001b[0m: operands could not be broadcast together with shapes (3,3) (3,2) "
     ]
    }
   ],
   "source": [
    "# This creates a 3x3 array of random numbers ranging from 0 to 1\n",
    "array3 = np.random.random((3, 3))\n",
    "array4 = np.random.random((3, 2))\n",
    "\n",
    "np.add(array3,array4)"
   ]
  },
  {
   "cell_type": "markdown",
   "metadata": {},
   "source": [
    "Exercise 4: by inspecting the arrays 1 to 4 can you figure out why one operation worked and another one didn't? (hint: check their values and shape)"
   ]
  },
  {
   "cell_type": "markdown",
   "metadata": {},
   "source": [
    "Nope, in exercise 3 again the dimensions of the arrays don't match.  The column numbers are not equal, and the add function cannot recycle the smaller array.  "
   ]
  },
  {
   "cell_type": "markdown",
   "metadata": {},
   "source": [
    "Exercise 5: Using the function to create an array of random numbers [np.random.random](https://numpy.org/doc/stable/reference/random/generated/numpy.random.random.html) how can you modify the code (as in the cells above) so that the numbers will vary between 0 and 100 instead of 0 and 1? And how can you modify the shape of the function?"
   ]
  },
  {
   "cell_type": "code",
   "execution_count": 7,
   "metadata": {},
   "outputs": [
    {
     "name": "stdout",
     "output_type": "stream",
     "text": [
      "[[80.96557685 48.3442892  16.65942706 54.94782533 18.69929217 54.56741831\n",
      "  92.54907027 25.50457958 80.12937767 59.72859603]\n",
      " [90.49442723 42.99097908 93.37964826 39.5212949  43.58569122 17.79667258\n",
      "  89.59330887 69.64915629 44.33498619 33.30364371]\n",
      " [44.93614887 18.41591323 65.03792271 17.18505773 71.70458359 55.56557597\n",
      "  39.94510286 20.30012999 74.90486958 31.4609771 ]\n",
      " [85.29283685 54.50021721 37.27229102 53.66646865 87.14451637 24.00825068\n",
      "  26.37597262 31.52700331 73.27020934 63.10025634]\n",
      " [99.64153457 78.74496503 44.2015789  76.59685569  6.83311236 45.0046667\n",
      "  34.62922438 53.57994835  9.47438458 38.65864631]\n",
      " [83.05965626 65.07682934  8.26608501 78.64813867 71.02508526 50.77125844\n",
      "  41.71526023  2.23021224 30.99694401 58.41742726]\n",
      " [76.95487322 47.34963492  7.9658676   4.15499929 29.95806733 76.14117296\n",
      "  31.86739087 67.19633554 71.50294298 71.68258537]\n",
      " [55.6138899  74.4507306  50.98828906 32.25701809 19.11050318  5.84403031\n",
      "  59.08321804 40.57148792 33.50661664 93.27866632]\n",
      " [10.02681057 37.81847442  0.92624289 82.35648857 33.98590222 96.95692763\n",
      "  27.07852402 34.7917349  12.55114514 40.78117675]\n",
      " [36.46084566 83.70013936 69.27255313 25.38873089 95.2627169  87.55186471\n",
      "  72.93945944 64.28079856 54.32815923 28.5840692 ]]\n"
     ]
    }
   ],
   "source": [
    "# This creates a 10x10 array of random numbers ranging from 0 to 1\n",
    "array5 = 100*np.random.random((10, 10))\n",
    "\n",
    "#print(array5)"
   ]
  },
  {
   "cell_type": "markdown",
   "metadata": {},
   "source": [
    "Exercise 6: Using the array defined on the exercise above, use [np.where](https://numpy.org/doc/stable/reference/generated/numpy.where.html) to find the positions the values that are larger than 50 (or feel free to pick any other number)."
   ]
  },
  {
   "cell_type": "code",
   "execution_count": 8,
   "metadata": {},
   "outputs": [
    {
     "data": {
      "text/plain": [
       "(array([0, 0, 0, 0, 0, 1, 1, 1, 1, 1, 2, 2, 2, 3, 3, 3, 3, 3, 3, 3, 4, 4,\n",
       "        4, 4, 4, 4, 5, 5, 6, 6, 6, 6, 6, 7, 7, 7, 7, 7, 7, 7, 7, 8, 8, 9,\n",
       "        9, 9, 9]),\n",
       " array([1, 2, 4, 6, 9, 0, 2, 4, 5, 7, 2, 4, 7, 0, 2, 4, 5, 6, 7, 8, 0, 1,\n",
       "        2, 3, 5, 8, 4, 8, 0, 1, 6, 7, 9, 0, 2, 4, 5, 6, 7, 8, 9, 3, 6, 1,\n",
       "        3, 6, 7]))"
      ]
     },
     "execution_count": 8,
     "metadata": {},
     "output_type": "execute_result"
    }
   ],
   "source": [
    "np.where(array5 > 50)"
   ]
  },
  {
   "cell_type": "markdown",
   "metadata": {},
   "source": [
    "<h1>Pandas </h1>\n",
    "There are two datasets on available to this work one is the pokemon dataset we explored in the lectured and the other one is the same dataframe but, for the sake of a nice story, let us say it was sabotaged by team rocket.\n",
    "\n",
    "Exercise 1: open both dataframes supplied using [pd.read_csv](https://pandas.pydata.org/docs/reference/api/pandas.read_csv.html) (and don't forget to assign them to different objects)."
   ]
  },
  {
   "cell_type": "code",
   "execution_count": 6,
   "metadata": {},
   "outputs": [],
   "source": [
    "pokemon_df = pd.read_csv(\"Pokemon.csv\")\n",
    "sabotage_df = pd.read_csv(\"Pokemon_sabotage.csv\")"
   ]
  },
  {
   "cell_type": "markdown",
   "metadata": {},
   "source": [
    "Exercise 2: Using [pd.isna](https://pandas.pydata.org/docs/reference/api/pandas.DataFrame.isna.html) check how many missing numbers are in each dataframe."
   ]
  },
  {
   "cell_type": "code",
   "execution_count": 7,
   "metadata": {},
   "outputs": [
    {
     "name": "stdout",
     "output_type": "stream",
     "text": [
      "False    800\n",
      "Name: #, dtype: int64\n",
      "False    800\n",
      "Name: Name, dtype: int64\n",
      "False    800\n",
      "Name: Type 1, dtype: int64\n",
      "False    414\n",
      "True     386\n",
      "Name: Type 2, dtype: int64\n",
      "False    800\n",
      "Name: Total, dtype: int64\n",
      "False    800\n",
      "Name: HP, dtype: int64\n",
      "False    800\n",
      "Name: Attack, dtype: int64\n",
      "False    800\n",
      "Name: Defense, dtype: int64\n",
      "False    800\n",
      "Name: Sp. Atk, dtype: int64\n",
      "False    800\n",
      "Name: Sp. Def, dtype: int64\n",
      "False    800\n",
      "Name: Speed, dtype: int64\n",
      "False    800\n",
      "Name: Generation, dtype: int64\n",
      "False    800\n",
      "Name: Legendary, dtype: int64\n"
     ]
    }
   ],
   "source": [
    "temp = pokemon_df.isna()\n",
    "\n",
    "for x in temp.keys():\n",
    "    #print(x)\n",
    "    print(temp[x].value_counts())\n",
    "\n"
   ]
  },
  {
   "cell_type": "markdown",
   "metadata": {},
   "source": [
    "This shows that a single column, \"Type 2\", had NaN records in.  All other columns are complete."
   ]
  },
  {
   "cell_type": "code",
   "execution_count": 8,
   "metadata": {},
   "outputs": [
    {
     "name": "stdout",
     "output_type": "stream",
     "text": [
      "False    800\n",
      "Name: #, dtype: int64\n",
      "False    798\n",
      "True       2\n",
      "Name: Name, dtype: int64\n",
      "False    799\n",
      "True       1\n",
      "Name: Type 1, dtype: int64\n",
      "False    413\n",
      "True     387\n",
      "Name: Type 2, dtype: int64\n",
      "False    800\n",
      "Name: Total, dtype: int64\n",
      "False    797\n",
      "True       3\n",
      "Name: HP, dtype: int64\n",
      "False    800\n",
      "Name: Attack, dtype: int64\n",
      "False    799\n",
      "True       1\n",
      "Name: Defense, dtype: int64\n",
      "False    800\n",
      "Name: Sp. Atk, dtype: int64\n",
      "False    799\n",
      "True       1\n",
      "Name: Sp. Def, dtype: int64\n",
      "False    796\n",
      "True       4\n",
      "Name: Speed, dtype: int64\n",
      "False    800\n",
      "Name: Generation, dtype: int64\n",
      "False    800\n",
      "Name: Legendary, dtype: int64\n"
     ]
    }
   ],
   "source": [
    "temp = sabotage_df.isna()\n",
    "\n",
    "for x in temp.keys():\n",
    "    #print(x)\n",
    "    print(temp[x].value_counts())"
   ]
  },
  {
   "cell_type": "markdown",
   "metadata": {},
   "source": [
    "This dataframe also have a single poorly completed column, but the other columns also have a low rate of NaN entries."
   ]
  },
  {
   "cell_type": "markdown",
   "metadata": {},
   "source": [
    "Exercise 3: Two of the main ways to deal with missing data is [pd.dropna](https://pandas.pydata.org/docs/reference/api/pandas.DataFrame.dropna.html) and [pd.fillna](https://pandas.pydata.org/docs/reference/api/pandas.DataFrame.fillna.html). How are these methods different from each other in how they deal with the missing data? Which, if any, would you use on the dataset? Why?"
   ]
  },
  {
   "cell_type": "markdown",
   "metadata": {},
   "source": [
    "pd.dropna will remove either rows or columns (depending on the value given to \"axis\") which contain a NaN record. pd.fillna offers ways of replacing NaN records with numbers, for example 0s.  Both methods would allow easier manipulation and analysis of the data in the dfs.  "
   ]
  },
  {
   "cell_type": "markdown",
   "metadata": {},
   "source": [
    "From now on we will only be working with the main (non sabotaged dataframe).<br>\n",
    "\n",
    "Exercise 4: to free up memory delete the sabotaged dataframe. Bonus: before deleting find a way to check how much space in memory the dataframes occupy. [hint](https://stackoverflow.com/questions/449560/how-do-i-determine-the-size-of-an-object-in-python)"
   ]
  },
  {
   "cell_type": "code",
   "execution_count": 9,
   "metadata": {},
   "outputs": [
    {
     "name": "stdout",
     "output_type": "stream",
     "text": [
      "<class 'pandas.core.frame.DataFrame'>\n",
      "RangeIndex: 800 entries, 0 to 799\n",
      "Data columns (total 13 columns):\n",
      " #   Column      Non-Null Count  Dtype  \n",
      "---  ------      --------------  -----  \n",
      " 0   #           800 non-null    int64  \n",
      " 1   Name        798 non-null    object \n",
      " 2   Type 1      799 non-null    object \n",
      " 3   Type 2      413 non-null    object \n",
      " 4   Total       800 non-null    int64  \n",
      " 5   HP          797 non-null    float64\n",
      " 6   Attack      800 non-null    int64  \n",
      " 7   Defense     799 non-null    float64\n",
      " 8   Sp. Atk     800 non-null    int64  \n",
      " 9   Sp. Def     799 non-null    float64\n",
      " 10  Speed       796 non-null    float64\n",
      " 11  Generation  800 non-null    int64  \n",
      " 12  Legendary   800 non-null    bool   \n",
      "dtypes: bool(1), float64(4), int64(5), object(3)\n",
      "memory usage: 75.9+ KB\n"
     ]
    }
   ],
   "source": [
    "sabotage_df.info() # 75.9+ KB, memory\n",
    "\n",
    "del sabotage_df\n",
    "\n",
    "#import gc # these commands would also recover the memory space of the df.\n",
    "#gc.collect()"
   ]
  },
  {
   "cell_type": "markdown",
   "metadata": {},
   "source": [
    "Exercise 5: Create a new column that contains the sum of the Attack, speed and defense stats."
   ]
  },
  {
   "cell_type": "code",
   "execution_count": 11,
   "metadata": {},
   "outputs": [
    {
     "name": "stdout",
     "output_type": "stream",
     "text": [
      "<class 'pandas.core.frame.DataFrame'>\n",
      "RangeIndex: 800 entries, 0 to 799\n",
      "Data columns (total 14 columns):\n",
      " #   Column      Non-Null Count  Dtype \n",
      "---  ------      --------------  ----- \n",
      " 0   #           800 non-null    int64 \n",
      " 1   Name        800 non-null    object\n",
      " 2   Type 1      800 non-null    object\n",
      " 3   Type 2      414 non-null    object\n",
      " 4   Total       800 non-null    int64 \n",
      " 5   HP          800 non-null    int64 \n",
      " 6   Attack      800 non-null    int64 \n",
      " 7   Defense     800 non-null    int64 \n",
      " 8   Sp. Atk     800 non-null    int64 \n",
      " 9   Sp. Def     800 non-null    int64 \n",
      " 10  Speed       800 non-null    int64 \n",
      " 11  Generation  800 non-null    int64 \n",
      " 12  Legendary   800 non-null    bool  \n",
      " 13  Sum_AtSpD   800 non-null    int64 \n",
      "dtypes: bool(1), int64(10), object(3)\n",
      "memory usage: 82.2+ KB\n"
     ]
    },
    {
     "data": {
      "text/plain": [
       "<AxesSubplot:>"
      ]
     },
     "execution_count": 11,
     "metadata": {},
     "output_type": "execute_result"
    },
    {
     "data": {
      "image/png": "[encoded data removed]",
      "text/plain": [
       "<Figure size 432x288 with 1 Axes>"
      ]
     },
     "metadata": {
      "needs_background": "light"
     },
     "output_type": "display_data"
    }
   ],
   "source": [
    "#pokemon_df[\"Sum_AtSpD\"] = pokemon_df[\"Attack\"] + pokemon_df[\"Speed\"] + pokemon_df[\"Defense\"]\n",
    "\n",
    "pokemon_df.info()\n",
    "\n",
    "pokemon_df[\"Sum_AtSpD\"].hist()"
   ]
  },
  {
   "cell_type": "markdown",
   "metadata": {},
   "source": [
    "Exercise 6: Find out the mean value of the attack, speed, defense columns and the new column that was created above."
   ]
  },
  {
   "cell_type": "code",
   "execution_count": 22,
   "metadata": {},
   "outputs": [
    {
     "name": "stdout",
     "output_type": "stream",
     "text": [
      "79.00125\n",
      "68.2775\n",
      "73.8425\n",
      "221.12125\n"
     ]
    }
   ],
   "source": [
    "print(np.mean(pokemon_df['Attack']))\n",
    "print(np.mean(pokemon_df['Speed']))\n",
    "print(np.mean(pokemon_df['Defense']))\n",
    "print(np.mean(pokemon_df['Sum_AtSpD']))"
   ]
  },
  {
   "cell_type": "markdown",
   "metadata": {},
   "source": [
    "Exercise 7: Find out how many pokemon have above average stats in the attack, speed, defense and the new column. Bonus: Do the pokemon with above average stats have a preffered type?"
   ]
  },
  {
   "cell_type": "code",
   "execution_count": 21,
   "metadata": {},
   "outputs": [
    {
     "name": "stdout",
     "output_type": "stream",
     "text": [
      "378\n",
      "376\n",
      "352\n",
      "390\n"
     ]
    }
   ],
   "source": [
    "print(len(pokemon_df[pokemon_df['Attack'] > np.mean(pokemon_df['Attack'])]))\n",
    "print(len(pokemon_df[pokemon_df['Speed'] > np.mean(pokemon_df['Speed'])]))\n",
    "print(len(pokemon_df[pokemon_df['Defense'] > np.mean(pokemon_df['Defense'])]))\n",
    "print(len(pokemon_df[pokemon_df['Sum_AtSpD'] > np.mean(pokemon_df['Sum_AtSpD'])]))"
   ]
  },
  {
   "cell_type": "markdown",
   "metadata": {},
   "source": [
    "Super bonus: There are many platforms out there that contain different tools to boost your learning. Then for the super bonus create an account on [kaggle](https://www.kaggle.com/) and complete the courses\n",
    "[intro to programming](https://www.kaggle.com/learn/intro-to-programming) and [intro to python](https://www.kaggle.com/learn/python) courses. All kaggle courses are free of charge and offer a [certificate](https://www.kaggle.com/learn-course-certificates) !"
   ]
  },
  {
   "cell_type": "code",
   "execution_count": null,
   "metadata": {},
   "outputs": [],
   "source": []
  }
 ],
 "metadata": {
  "kernelspec": {
   "display_name": "Python 3.9.12 ('base')",
   "language": "python",
   "name": "python3"
  },
  "language_info": {
   "codemirror_mode": {
    "name": "ipython",
    "version": 3
   },
   "file_extension": ".py",
   "mimetype": "text/x-python",
   "name": "python",
   "nbconvert_exporter": "python",
   "pygments_lexer": "ipython3",
   "version": "3.9.12"
  },
  "vscode": {
   "interpreter": {
    "hash": "fcc362f8574f8204d6018ca2f9b94a8d6d7e8427caab7900b7f8463936fca73b"
   }
  }
 },
 "nbformat": 4,
 "nbformat_minor": 4
}
