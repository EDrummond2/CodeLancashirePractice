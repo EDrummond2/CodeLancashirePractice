{
 "cells": [
  {
   "cell_type": "code",
   "execution_count": 1,
   "metadata": {},
   "outputs": [],
   "source": [
    "# Importing sqlalchemy\n",
    "import sqlalchemy as sql"
   ]
  },
  {
   "cell_type": "markdown",
   "metadata": {},
   "source": [
    "<h1>Databases</h1>\n",
    "\n",
    "Databases are powerful tools to store and organize data. They take advantage of their design (schema) to provide efficient ways to retrieve the stored data and determine relationships between different tables.<br>\n",
    "\n",
    "In this sense, one of the most popular choices to create databases is the Structured Query Language (SQL). In Python, SQL can be rather easily used with the [SQLAlchemy](https://www.sqlalchemy.org/) library.\n",
    "\n",
    "In this tutorial we are going to cover the basic operations that you will find and use being those the creation of the database, querying, updating and deleting."
   ]
  },
  {
   "cell_type": "markdown",
   "metadata": {},
   "source": [
    "<h1>Designing a database</h1>\n",
    "\n",
    "The code block below showcase how to create a database and define the items that are being used on it ([Example](https://www.pythoncentral.io/introductory-tutorial-python-sqlalchemy/)). Notice that each table is contained within a [class](https://www.w3schools.com/python/python_classes.asp).\n"
   ]
  },
  {
   "cell_type": "code",
   "execution_count": 7,
   "metadata": {},
   "outputs": [],
   "source": [
    "# Some more imports.\n",
    "import os\n",
    "import sys\n",
    "from sqlalchemy import Column, ForeignKey, Integer, String, Boolean\n",
    "from sqlalchemy.ext.declarative import declarative_base\n",
    "from sqlalchemy.orm import relationship\n",
    "from sqlalchemy import create_engine"
   ]
  },
  {
   "cell_type": "code",
   "execution_count": 3,
   "metadata": {},
   "outputs": [],
   "source": [
    "Base = declarative_base()\n",
    "\n",
    "class Pokemon(Base):\n",
    "    __tablename__ = 'pokemon'\n",
    "    # Here we define columns for the table person\n",
    "    # Notice that each column is also a normal Python instance attribute.\n",
    "    id = Column(Integer, primary_key=True)\n",
    "    name = Column(String(50), nullable=False)\n",
    "\n",
    "class Attributes(Base):\n",
    "    __tablename__ = 'attributes'\n",
    "    # Here we define columns for the table address.\n",
    "    # Notice that each column is also a normal Python instance attribute.\n",
    "    id = Column(Integer, primary_key=True)\n",
    "    type1 = Column(String(50))\n",
    "    type2 = Column(String(50))\n",
    "    HP = Column(Integer, nullable=False)\n",
    "    Attack = Column(Integer, nullable=False)\n",
    "    Legendary = Column(Boolean, nullable=False)\n",
    "    pokemon_id = Column(Integer, ForeignKey('pokemon.id'))\n",
    "    Pokemon = relationship(Pokemon)\n",
    "\n",
    "# Create an engine that stores data in the local directory's\n",
    "# sqlalchemy_example.db file.\n",
    "engine = create_engine('sqlite:///pokedex.db')\n",
    "\n",
    "# Create all tables in the engine. This is equivalent to \"Create Table\"\n",
    "# statements in raw SQL.\n",
    "Base.metadata.create_all(engine)"
   ]
  },
  {
   "cell_type": "code",
   "execution_count": 10,
   "metadata": {},
   "outputs": [
    {
     "data": {
      "text/plain": [
       "<module 'pwd' (built-in)>"
      ]
     },
     "execution_count": 10,
     "metadata": {},
     "output_type": "execute_result"
    }
   ],
   "source": [
    "# print working directory\n",
    "\n",
    "\n"
   ]
  },
  {
   "cell_type": "markdown",
   "metadata": {},
   "source": [
    "Discussion: are the assigned datatypes of the table above appropriated to the problem?"
   ]
  },
  {
   "cell_type": "markdown",
   "metadata": {},
   "source": [
    "Exercise: the pokemon dataframe had more columns than what we can see in the attributes class. Add the columns for the attributes."
   ]
  },
  {
   "cell_type": "code",
   "execution_count": 4,
   "metadata": {},
   "outputs": [
    {
     "data": {
      "text/plain": [
       "__main__.Pokemon"
      ]
     },
     "execution_count": 4,
     "metadata": {},
     "output_type": "execute_result"
    }
   ],
   "source": [
    "# Having a peek at the object we created.\n",
    "Pokemon"
   ]
  },
  {
   "cell_type": "markdown",
   "metadata": {},
   "source": [
    "<h1>Starting a database session</h1>\n",
    "\n",
    "First thing we need to do is to start a database [session](https://docs.sqlalchemy.org/en/14/orm/session_api.html). After that we are able to start working with the database. Just be mindful that this connection (ideally) needs to be closed later.\n",
    "\n",
    "\n",
    "If you prefer, SQLAlchemy can also work with [PostgreSQL](https://docs.sqlalchemy.org/en/14/dialects/postgresql.html), [MySQL](https://docs.sqlalchemy.org/en/14/dialects/mysql.html) and other formats of databases. In this tutorial we will use [SQLite](https://docs.sqlalchemy.org/en/14/dialects/sqlite.html)."
   ]
  },
  {
   "cell_type": "code",
   "execution_count": null,
   "metadata": {},
   "outputs": [],
   "source": [
    "from sqlalchemy import create_engine\n",
    "from sqlalchemy.orm import sessionmaker\n",
    "\n",
    "#from sqlalchemy_declarative import Attributes, Base, Pokemon\n",
    "\n",
    "# Notice we're using SQLite here.\n",
    "# This line will create the database if it isn't there already.\n",
    "engine = create_engine('sqlite:///pokedex.db')\n",
    "# Bind the engine to the metadata of the Base class so that the\n",
    "# declaratives can be accessed through a DBSession instance\n",
    "Base.metadata.bind = engine\n",
    "\n",
    "DBSession = sessionmaker(bind=engine)\n",
    "# A DBSession() instance establishes all conversations with the database\n",
    "# and represents a \"staging zone\" for all the objects loaded into the\n",
    "# database session object. Any change made against the objects in the\n",
    "# session won't be persisted into the database until you call\n",
    "# session.commit(). If you're not happy about the changes, you can\n",
    "# revert all of them back to the last commit by calling\n",
    "# session.rollback()\n",
    "session = DBSession()"
   ]
  },
  {
   "cell_type": "markdown",
   "metadata": {},
   "source": [
    "<h1>Inserting data on the database</h1>\n",
    "Here is how we take data into the database. This proccess can be simple refered to as [add](https://docs.sqlalchemy.org/en/13/orm/session_basics.html#adding-new-or-existing-items). Again, any additions need to be commited before they actually become part of the database."
   ]
  },
  {
   "cell_type": "code",
   "execution_count": null,
   "metadata": {},
   "outputs": [],
   "source": [
    "# Insert a Person in the person table\n",
    "new_pokemon = Pokemon(name='Bulbasaur')\n",
    "session.add(new_pokemon)\n",
    "session.commit()"
   ]
  },
  {
   "cell_type": "code",
   "execution_count": null,
   "metadata": {},
   "outputs": [],
   "source": [
    "# Insert an Address in the address table\n",
    "new_type = Attributes(type1='grass', Pokemon=new_pokemon)\n",
    "session.add(new_type)\n",
    "session.commit()"
   ]
  },
  {
   "cell_type": "markdown",
   "metadata": {},
   "source": [
    "Exercise: Why has the cell block above crashed? (hint: read the error message)."
   ]
  },
  {
   "cell_type": "code",
   "execution_count": null,
   "metadata": {},
   "outputs": [],
   "source": [
    "# Fixing the crash.\n",
    "session.rollback()"
   ]
  },
  {
   "cell_type": "code",
   "execution_count": null,
   "metadata": {},
   "outputs": [],
   "source": [
    "# Insert an Address in the address table\n",
    "new_type = Attributes(type1='grass', \n",
    "                      type2=None, \n",
    "                      HP=45, \n",
    "                      Attack=49, \n",
    "                      Legendary=False, \n",
    "                      Pokemon=new_pokemon)\n",
    "session.add(new_type)\n",
    "session.commit()"
   ]
  },
  {
   "cell_type": "markdown",
   "metadata": {},
   "source": [
    "Exercise: add 5 more pokemon to the database."
   ]
  },
  {
   "cell_type": "markdown",
   "metadata": {},
   "source": [
    "<h1>Querying</h1>\n",
    "\n",
    "This is generally where database users will spend most of their time. Efficiently [Querying](https://docs.sqlalchemy.org/en/13/orm/session_basics.html#querying) the database is remarkably important to save processing time and, of course, retrieve the right data."
   ]
  },
  {
   "cell_type": "code",
   "execution_count": null,
   "metadata": {},
   "outputs": [],
   "source": [
    "# Example querying the pokemon database.\n",
    "s = sql.select([Pokemon])\n",
    "rp = session.execute(s)\n",
    "results = rp.fetchall()\n",
    "results"
   ]
  },
  {
   "cell_type": "code",
   "execution_count": null,
   "metadata": {},
   "outputs": [],
   "source": [
    "# Example querying the Attributes database.\n",
    "s = sql.select([Attributes])\n",
    "rp = session.execute(s)\n",
    "results = rp.fetchall()\n",
    "results"
   ]
  },
  {
   "cell_type": "markdown",
   "metadata": {},
   "source": [
    "The queries can also be filtered using a where statement."
   ]
  },
  {
   "cell_type": "code",
   "execution_count": null,
   "metadata": {},
   "outputs": [],
   "source": [
    "# Example with a where statement.\n",
    "s = sql.select([Attributes]).where(Attributes.pokemon_id == 1)\n",
    "rp = session.execute(s)\n",
    "results = rp.fetchall()\n",
    "results"
   ]
  },
  {
   "cell_type": "markdown",
   "metadata": {},
   "source": [
    "Raw SQL is also understood by sqlalchemy as in the examples below,"
   ]
  },
  {
   "cell_type": "code",
   "execution_count": null,
   "metadata": {},
   "outputs": [],
   "source": [
    "s = \"SELECT * FROM pokemon\"\n",
    "rp = session.execute(s)\n",
    "results = rp.fetchall()\n",
    "results"
   ]
  },
  {
   "cell_type": "code",
   "execution_count": null,
   "metadata": {},
   "outputs": [],
   "source": [
    "s = \"SELECT * FROM pokemon WHERE ID = 1\"\n",
    "rp = session.execute(s)\n",
    "results = rp.fetchall()\n",
    "results"
   ]
  },
  {
   "cell_type": "markdown",
   "metadata": {},
   "source": [
    "Exercise: Your turn to make some queries. Show two examples of filtered queries."
   ]
  },
  {
   "cell_type": "code",
   "execution_count": null,
   "metadata": {},
   "outputs": [],
   "source": []
  },
  {
   "cell_type": "markdown",
   "metadata": {},
   "source": [
    "<h1>Updating</h1>\n",
    "Sometimes you might want to change data that is stored in the database."
   ]
  },
  {
   "cell_type": "code",
   "execution_count": null,
   "metadata": {},
   "outputs": [],
   "source": [
    "# Notice anything different about the query?\n",
    "s = session.query(Attributes)\n",
    "s = s.filter(Attributes.pokemon_id == 1)\n",
    "\n",
    "# Update example.\n",
    "s.update({Attributes.HP: 500})\n",
    "session.commit()"
   ]
  },
  {
   "cell_type": "markdown",
   "metadata": {},
   "source": [
    "Exercise: Yout turn to update a value."
   ]
  },
  {
   "cell_type": "code",
   "execution_count": null,
   "metadata": {},
   "outputs": [],
   "source": []
  },
  {
   "cell_type": "markdown",
   "metadata": {},
   "source": [
    "<h1>Deleting</h1>\n",
    "Finally let's look at how to delete entries in the database."
   ]
  },
  {
   "cell_type": "code",
   "execution_count": null,
   "metadata": {},
   "outputs": [],
   "source": [
    "# Delete example\n",
    "s = sql.delete(Attributes).where(Attributes.pokemon_id == 1)\n",
    "rp = session.execute(s)"
   ]
  },
  {
   "cell_type": "markdown",
   "metadata": {},
   "source": [
    "Discussion: What are the dangers of deleting items?"
   ]
  },
  {
   "cell_type": "markdown",
   "metadata": {},
   "source": [
    "Exercise: Delete a row."
   ]
  },
  {
   "cell_type": "code",
   "execution_count": null,
   "metadata": {},
   "outputs": [],
   "source": []
  },
  {
   "cell_type": "code",
   "execution_count": null,
   "metadata": {},
   "outputs": [],
   "source": [
    "# Closing session.\n",
    "session.close()"
   ]
  },
  {
   "cell_type": "code",
   "execution_count": null,
   "metadata": {},
   "outputs": [],
   "source": []
  }
 ],
 "metadata": {
  "kernelspec": {
   "display_name": "Python 3.9.12 ('base')",
   "language": "python",
   "name": "python3"
  },
  "language_info": {
   "codemirror_mode": {
    "name": "ipython",
    "version": 3
   },
   "file_extension": ".py",
   "mimetype": "text/x-python",
   "name": "python",
   "nbconvert_exporter": "python",
   "pygments_lexer": "ipython3",
   "version": "3.9.12"
  },
  "vscode": {
   "interpreter": {
    "hash": "fcc362f8574f8204d6018ca2f9b94a8d6d7e8427caab7900b7f8463936fca73b"
   }
  }
 },
 "nbformat": 4,
 "nbformat_minor": 4
}
